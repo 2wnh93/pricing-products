{
 "cells": [
  {
   "cell_type": "markdown",
   "metadata": {},
   "source": [
    "# Modelling - Regression\n",
    "\n",
    "In this notebook, I perform regression to get the line of best fit for each cluster and subsequently, determine at which unit price range will the transaction likely to be profitable. \n",
    "\n",
    "**Contents:**\n",
    "- [Imports](#Import-libraries-and-data)\n",
    "- [Preprocessing](#Preprocessing)\n",
    "- [Modelling](#Modelling)\n",
    "    - [Regression on Cluster 1](#Cluster-1)\n",
    "    - [Regression on Cluster 2](#Cluster-2)\n",
    "    - [Regression on Cluster 3](#Cluster-3)\n",
    "- [Conclusion and Recommendation](#Conclusion-and-Recommendation)\n",
    "- [Limitations and Other Considerations](#Limitations-and-Other-Considerations)\n",
    "- [Further Development](#Further-Development)"
   ]
  },
  {
   "cell_type": "markdown",
   "metadata": {},
   "source": [
    "### Import libraries and data"
   ]
  },
  {
   "cell_type": "code",
   "execution_count": 12,
   "metadata": {},
   "outputs": [],
   "source": [
    "#import libraries\n",
    "import numpy as np\n",
    "import pandas as pd \n",
    "pd.set_option('display.max_columns', None)\n",
    "import seaborn as sns\n",
    "import matplotlib.pyplot as plt\n",
    "plt.style.use('seaborn-whitegrid')\n",
    "from prettytable import PrettyTable\n",
    "import warnings\n",
    "warnings.filterwarnings('ignore')\n",
    "\n",
    "# imports for preprocessing\n",
    "from sklearn.preprocessing import StandardScaler\n",
    "from mlxtend.feature_selection import SequentialFeatureSelector\n",
    "from sklearn.feature_selection import SelectKBest, f_regression\n",
    "\n",
    "# imports for modelling\n",
    "from sklearn.model_selection import train_test_split, cross_val_score, GridSearchCV, KFold\n",
    "from sklearn.linear_model import LinearRegression, LassoCV, RidgeCV, ElasticNetCV\n",
    "from sklearn.ensemble import RandomForestRegressor\n",
    "from sklearn.svm import SVR\n",
    "from sklearn.metrics import r2_score\n",
    "import xgboost as xgb\n",
    "from xgboost.sklearn import XGBRegressor\n",
    "from sklearn.pipeline import Pipeline\n",
    "\n",
    "%matplotlib inline"
   ]
  },
  {
   "cell_type": "code",
   "execution_count": 13,
   "metadata": {},
   "outputs": [
    {
     "name": "stdout",
     "output_type": "stream",
     "text": [
      "=================== Top 5 rows of dataset ===================\n"
     ]
    },
    {
     "data": {
      "text/html": [
       "<div>\n",
       "<style scoped>\n",
       "    .dataframe tbody tr th:only-of-type {\n",
       "        vertical-align: middle;\n",
       "    }\n",
       "\n",
       "    .dataframe tbody tr th {\n",
       "        vertical-align: top;\n",
       "    }\n",
       "\n",
       "    .dataframe thead th {\n",
       "        text-align: right;\n",
       "    }\n",
       "</style>\n",
       "<table border=\"1\" class=\"dataframe\">\n",
       "  <thead>\n",
       "    <tr style=\"text-align: right;\">\n",
       "      <th></th>\n",
       "      <th>sales</th>\n",
       "      <th>profit</th>\n",
       "      <th>shipping_cost</th>\n",
       "      <th>unit_price</th>\n",
       "      <th>quantity</th>\n",
       "      <th>discount</th>\n",
       "      <th>heavy_discount_regions</th>\n",
       "      <th>non_profitable_regions</th>\n",
       "      <th>more_qty</th>\n",
       "      <th>cluster</th>\n",
       "    </tr>\n",
       "  </thead>\n",
       "  <tbody>\n",
       "    <tr>\n",
       "      <th>0</th>\n",
       "      <td>221.980</td>\n",
       "      <td>62.1544</td>\n",
       "      <td>40.770</td>\n",
       "      <td>110.990</td>\n",
       "      <td>2</td>\n",
       "      <td>0.0</td>\n",
       "      <td>0</td>\n",
       "      <td>0</td>\n",
       "      <td>0</td>\n",
       "      <td>2</td>\n",
       "    </tr>\n",
       "    <tr>\n",
       "      <th>1</th>\n",
       "      <td>668.160</td>\n",
       "      <td>75.1680</td>\n",
       "      <td>45.740</td>\n",
       "      <td>74.240</td>\n",
       "      <td>9</td>\n",
       "      <td>0.2</td>\n",
       "      <td>0</td>\n",
       "      <td>0</td>\n",
       "      <td>1</td>\n",
       "      <td>1</td>\n",
       "    </tr>\n",
       "    <tr>\n",
       "      <th>2</th>\n",
       "      <td>2043.720</td>\n",
       "      <td>756.0000</td>\n",
       "      <td>321.360</td>\n",
       "      <td>145.980</td>\n",
       "      <td>14</td>\n",
       "      <td>0.0</td>\n",
       "      <td>0</td>\n",
       "      <td>0</td>\n",
       "      <td>1</td>\n",
       "      <td>1</td>\n",
       "    </tr>\n",
       "    <tr>\n",
       "      <th>3</th>\n",
       "      <td>2125.000</td>\n",
       "      <td>297.5000</td>\n",
       "      <td>316.764</td>\n",
       "      <td>425.000</td>\n",
       "      <td>5</td>\n",
       "      <td>0.0</td>\n",
       "      <td>0</td>\n",
       "      <td>0</td>\n",
       "      <td>1</td>\n",
       "      <td>1</td>\n",
       "    </tr>\n",
       "    <tr>\n",
       "      <th>4</th>\n",
       "      <td>470.376</td>\n",
       "      <td>52.9173</td>\n",
       "      <td>137.410</td>\n",
       "      <td>156.792</td>\n",
       "      <td>3</td>\n",
       "      <td>0.2</td>\n",
       "      <td>0</td>\n",
       "      <td>0</td>\n",
       "      <td>1</td>\n",
       "      <td>1</td>\n",
       "    </tr>\n",
       "  </tbody>\n",
       "</table>\n",
       "</div>"
      ],
      "text/plain": [
       "      sales    profit  shipping_cost  unit_price  quantity  discount  \\\n",
       "0   221.980   62.1544         40.770     110.990         2       0.0   \n",
       "1   668.160   75.1680         45.740      74.240         9       0.2   \n",
       "2  2043.720  756.0000        321.360     145.980        14       0.0   \n",
       "3  2125.000  297.5000        316.764     425.000         5       0.0   \n",
       "4   470.376   52.9173        137.410     156.792         3       0.2   \n",
       "\n",
       "   heavy_discount_regions  non_profitable_regions  more_qty  cluster  \n",
       "0                       0                       0         0        2  \n",
       "1                       0                       0         1        1  \n",
       "2                       0                       0         1        1  \n",
       "3                       0                       0         1        1  \n",
       "4                       0                       0         1        1  "
      ]
     },
     "metadata": {},
     "output_type": "display_data"
    },
    {
     "name": "stdout",
     "output_type": "stream",
     "text": [
      "=================== Shape of dataset ===================\n",
      "(3073, 10)\n",
      "=================== Data types in dataset ===================\n",
      "sales                     float64\n",
      "profit                    float64\n",
      "shipping_cost             float64\n",
      "unit_price                float64\n",
      "quantity                    int64\n",
      "discount                  float64\n",
      "heavy_discount_regions      int64\n",
      "non_profitable_regions      int64\n",
      "more_qty                    int64\n",
      "cluster                     int64\n",
      "dtype: object\n",
      "=================== Description of data in dataset ===================\n"
     ]
    },
    {
     "data": {
      "text/html": [
       "<div>\n",
       "<style scoped>\n",
       "    .dataframe tbody tr th:only-of-type {\n",
       "        vertical-align: middle;\n",
       "    }\n",
       "\n",
       "    .dataframe tbody tr th {\n",
       "        vertical-align: top;\n",
       "    }\n",
       "\n",
       "    .dataframe thead th {\n",
       "        text-align: right;\n",
       "    }\n",
       "</style>\n",
       "<table border=\"1\" class=\"dataframe\">\n",
       "  <thead>\n",
       "    <tr style=\"text-align: right;\">\n",
       "      <th></th>\n",
       "      <th>sales</th>\n",
       "      <th>profit</th>\n",
       "      <th>shipping_cost</th>\n",
       "      <th>unit_price</th>\n",
       "      <th>quantity</th>\n",
       "      <th>discount</th>\n",
       "      <th>heavy_discount_regions</th>\n",
       "      <th>non_profitable_regions</th>\n",
       "      <th>more_qty</th>\n",
       "      <th>cluster</th>\n",
       "    </tr>\n",
       "  </thead>\n",
       "  <tbody>\n",
       "    <tr>\n",
       "      <th>count</th>\n",
       "      <td>3073.000000</td>\n",
       "      <td>3073.000000</td>\n",
       "      <td>3073.000000</td>\n",
       "      <td>3073.000000</td>\n",
       "      <td>3073.000000</td>\n",
       "      <td>3073.000000</td>\n",
       "      <td>3073.000000</td>\n",
       "      <td>3073.000000</td>\n",
       "      <td>3073.000000</td>\n",
       "      <td>3073.000000</td>\n",
       "    </tr>\n",
       "    <tr>\n",
       "      <th>mean</th>\n",
       "      <td>364.724233</td>\n",
       "      <td>40.863466</td>\n",
       "      <td>38.492055</td>\n",
       "      <td>109.098274</td>\n",
       "      <td>3.491702</td>\n",
       "      <td>0.148994</td>\n",
       "      <td>0.069639</td>\n",
       "      <td>0.069639</td>\n",
       "      <td>0.600390</td>\n",
       "      <td>1.485844</td>\n",
       "    </tr>\n",
       "    <tr>\n",
       "      <th>std</th>\n",
       "      <td>376.282197</td>\n",
       "      <td>118.699060</td>\n",
       "      <td>46.799308</td>\n",
       "      <td>94.828719</td>\n",
       "      <td>2.228196</td>\n",
       "      <td>0.189178</td>\n",
       "      <td>0.254579</td>\n",
       "      <td>0.254579</td>\n",
       "      <td>0.489898</td>\n",
       "      <td>0.623862</td>\n",
       "    </tr>\n",
       "    <tr>\n",
       "      <th>min</th>\n",
       "      <td>2.970000</td>\n",
       "      <td>-685.752000</td>\n",
       "      <td>1.050000</td>\n",
       "      <td>1.584000</td>\n",
       "      <td>1.000000</td>\n",
       "      <td>0.000000</td>\n",
       "      <td>0.000000</td>\n",
       "      <td>0.000000</td>\n",
       "      <td>0.000000</td>\n",
       "      <td>1.000000</td>\n",
       "    </tr>\n",
       "    <tr>\n",
       "      <th>25%</th>\n",
       "      <td>126.090000</td>\n",
       "      <td>1.198800</td>\n",
       "      <td>9.710000</td>\n",
       "      <td>51.992000</td>\n",
       "      <td>2.000000</td>\n",
       "      <td>0.000000</td>\n",
       "      <td>0.000000</td>\n",
       "      <td>0.000000</td>\n",
       "      <td>0.000000</td>\n",
       "      <td>1.000000</td>\n",
       "    </tr>\n",
       "    <tr>\n",
       "      <th>50%</th>\n",
       "      <td>249.060000</td>\n",
       "      <td>27.196000</td>\n",
       "      <td>21.700000</td>\n",
       "      <td>83.862000</td>\n",
       "      <td>3.000000</td>\n",
       "      <td>0.100000</td>\n",
       "      <td>0.000000</td>\n",
       "      <td>0.000000</td>\n",
       "      <td>1.000000</td>\n",
       "      <td>1.000000</td>\n",
       "    </tr>\n",
       "    <tr>\n",
       "      <th>75%</th>\n",
       "      <td>459.360000</td>\n",
       "      <td>77.550000</td>\n",
       "      <td>47.160000</td>\n",
       "      <td>136.650000</td>\n",
       "      <td>5.000000</td>\n",
       "      <td>0.200000</td>\n",
       "      <td>0.000000</td>\n",
       "      <td>0.000000</td>\n",
       "      <td>1.000000</td>\n",
       "      <td>2.000000</td>\n",
       "    </tr>\n",
       "    <tr>\n",
       "      <th>max</th>\n",
       "      <td>2616.960000</td>\n",
       "      <td>756.000000</td>\n",
       "      <td>321.360000</td>\n",
       "      <td>587.412000</td>\n",
       "      <td>14.000000</td>\n",
       "      <td>0.700000</td>\n",
       "      <td>1.000000</td>\n",
       "      <td>1.000000</td>\n",
       "      <td>1.000000</td>\n",
       "      <td>3.000000</td>\n",
       "    </tr>\n",
       "  </tbody>\n",
       "</table>\n",
       "</div>"
      ],
      "text/plain": [
       "             sales       profit  shipping_cost   unit_price     quantity  \\\n",
       "count  3073.000000  3073.000000    3073.000000  3073.000000  3073.000000   \n",
       "mean    364.724233    40.863466      38.492055   109.098274     3.491702   \n",
       "std     376.282197   118.699060      46.799308    94.828719     2.228196   \n",
       "min       2.970000  -685.752000       1.050000     1.584000     1.000000   \n",
       "25%     126.090000     1.198800       9.710000    51.992000     2.000000   \n",
       "50%     249.060000    27.196000      21.700000    83.862000     3.000000   \n",
       "75%     459.360000    77.550000      47.160000   136.650000     5.000000   \n",
       "max    2616.960000   756.000000     321.360000   587.412000    14.000000   \n",
       "\n",
       "          discount  heavy_discount_regions  non_profitable_regions  \\\n",
       "count  3073.000000             3073.000000             3073.000000   \n",
       "mean      0.148994                0.069639                0.069639   \n",
       "std       0.189178                0.254579                0.254579   \n",
       "min       0.000000                0.000000                0.000000   \n",
       "25%       0.000000                0.000000                0.000000   \n",
       "50%       0.100000                0.000000                0.000000   \n",
       "75%       0.200000                0.000000                0.000000   \n",
       "max       0.700000                1.000000                1.000000   \n",
       "\n",
       "          more_qty      cluster  \n",
       "count  3073.000000  3073.000000  \n",
       "mean      0.600390     1.485844  \n",
       "std       0.489898     0.623862  \n",
       "min       0.000000     1.000000  \n",
       "25%       0.000000     1.000000  \n",
       "50%       1.000000     1.000000  \n",
       "75%       1.000000     2.000000  \n",
       "max       1.000000     3.000000  "
      ]
     },
     "metadata": {},
     "output_type": "display_data"
    }
   ],
   "source": [
    "#read data\n",
    "phones = pd.read_csv(\"../data/phones_clustered.csv\")\n",
    "print(\"=================== Top 5 rows of dataset ===================\")\n",
    "display(phones.head())\n",
    "print(\"=================== Shape of dataset ===================\")\n",
    "print(phones.shape)\n",
    "print(\"=================== Data types in dataset ===================\")\n",
    "print(phones.dtypes)\n",
    "print(\"=================== Description of data in dataset ===================\")\n",
    "display(phones.describe())"
   ]
  },
  {
   "cell_type": "code",
   "execution_count": 14,
   "metadata": {},
   "outputs": [],
   "source": [
    "# view profiit per unit\n",
    "phones['profit_per_unit'] = phones['profit']/phones['quantity']"
   ]
  },
  {
   "cell_type": "markdown",
   "metadata": {},
   "source": [
    "### Preprocessing\n",
    "Here I separate out each cluster into separate dataframes and do a train-test split, in preparation for modelling. "
   ]
  },
  {
   "cell_type": "code",
   "execution_count": 15,
   "metadata": {},
   "outputs": [],
   "source": [
    "# create dataframes for each cluster\n",
    "cluster1 = phones[phones['cluster']==1]\n",
    "cluster2 = phones[phones['cluster']==2]\n",
    "cluster3 = phones[phones['cluster']==3]"
   ]
  },
  {
   "cell_type": "code",
   "execution_count": 16,
   "metadata": {},
   "outputs": [],
   "source": [
    "# create features and target\n",
    "cluster1.drop(columns = ['cluster'], inplace=True)\n",
    "features = [col for col in cluster1.columns if col != 'profit_per_unit']\n",
    "X1 = cluster1[features]\n",
    "y1 = cluster1['profit_per_unit']\n",
    "\n",
    "cluster2.drop(columns = ['cluster'], inplace=True)\n",
    "features = [col for col in cluster2.columns if col != 'profit_per_unit']\n",
    "X2 = cluster2[features]\n",
    "y2 = cluster2['profit_per_unit']\n",
    "\n",
    "cluster3.drop(columns = ['cluster'], inplace=True)\n",
    "features = [col for col in cluster2.columns if col != 'profit_per_unit']\n",
    "X3 = cluster3[features]\n",
    "y3 = cluster3['profit_per_unit']"
   ]
  },
  {
   "cell_type": "code",
   "execution_count": 6,
   "metadata": {},
   "outputs": [],
   "source": [
    "# split data into train and test set\n",
    "X1_train, X1_test, y1_train, y1_test = train_test_split(X1, y1, random_state = 42)\n",
    "X2_train, X2_test, y2_train, y2_test = train_test_split(X2, y2, random_state = 42)\n",
    "X3_train, X3_test, y3_train, y3_test = train_test_split(X3, y3, random_state = 42)"
   ]
  },
  {
   "cell_type": "markdown",
   "metadata": {},
   "source": [
    "### Modelling\n",
    "Nested cross-validation to select the algorithm to use. "
   ]
  },
  {
   "cell_type": "code",
   "execution_count": 7,
   "metadata": {},
   "outputs": [],
   "source": [
    "# instantiate regressors\n",
    "enet = ElasticNetCV()\n",
    "rfr = RandomForestRegressor(max_features='auto')\n",
    "svr = SVR(kernel='linear',epsilon=0.2)\n",
    "xgbr = XGBRegressor()\n",
    "lasso = LassoCV()\n",
    "ridge = RidgeCV()"
   ]
  },
  {
   "cell_type": "code",
   "execution_count": 8,
   "metadata": {},
   "outputs": [],
   "source": [
    "# build pipeline\n",
    "p1 = Pipeline([('ss', StandardScaler()),\n",
    "               ('enet', enet)])\n",
    "\n",
    "p2 = Pipeline([('ss', StandardScaler()),\n",
    "#                ('skb', SelectKBest(score_func=f_regression, k=20)),\n",
    "               ('rfr', rfr)])\n",
    "\n",
    "p3 = Pipeline([('ss', StandardScaler()),\n",
    "#                ('skb', SelectKBest(score_func=f_regression, k=20)),\n",
    "               ('svr', svr)])\n",
    "\n",
    "p4 = Pipeline([('ss', StandardScaler()),\n",
    "#                ('skb', SelectKBest(score_func=f_regression, k=20)),\n",
    "               ('xgbr', xgbr)])\n",
    "\n",
    "p5 = Pipeline([('ss', StandardScaler()),\n",
    "               ('lasso', lasso)])\n",
    "\n",
    "p6 = Pipeline([('ss', StandardScaler()),\n",
    "               ('ridge', ridge)])"
   ]
  },
  {
   "cell_type": "code",
   "execution_count": 9,
   "metadata": {},
   "outputs": [],
   "source": [
    "# set up params\n",
    "params1 = [{'enet__n_alphas':[200,300,400,500],\n",
    "           'enet__l1_ratio':np.linspace(0.0001,1,100)}]\n",
    "\n",
    "params2 = [{'rfr__n_estimators':[200,350,500],\n",
    "            'rfr__max_depth':[2,5,10],\n",
    "            'rfr__min_samples_split':[12,15,20]}]\n",
    "\n",
    "params3 = [{'svr__gamma':[0.001,0.01,0.1,1]}]\n",
    "\n",
    "params4 = [{'xgbr__n_estimators':[70,150,250],\n",
    "            'xgbr__max_depth':[3,5,7],\n",
    "            'xgbr__learning_rate':[0.01,0.05,0.1]}]\n",
    "\n",
    "params5 = [{'lasso__n_alphas':[100, 200]}]\n",
    "\n",
    "params6 = [{'ridge__alphas':np.linspace(.1, 10, 100)}]"
   ]
  },
  {
   "cell_type": "code",
   "execution_count": 10,
   "metadata": {},
   "outputs": [],
   "source": [
    "# set up gridsearch for each algo\n",
    "gridcvs = {}\n",
    "\n",
    "inner_cv = KFold(n_splits=2, shuffle=True, random_state=42)\n",
    "\n",
    "for paramgrid, estimator, name in zip((params1,params2,params3,params4,params5,params6),\n",
    "                                     (p1,p2,p3,p4,p5,p6),\n",
    "                                     ('Elastic Net CV','Random Forest Regressor','Support Vector Regressor','XGBoost Regressor','Lasso','Ridge')):\n",
    "    gcv = GridSearchCV(estimator = estimator,\n",
    "                      param_grid = paramgrid,\n",
    "                      scoring = 'r2',\n",
    "                      n_jobs=-1,\n",
    "                      cv=inner_cv,\n",
    "                      verbose=0,\n",
    "                      refit=True)\n",
    "    gridcvs[name] = gcv"
   ]
  },
  {
   "cell_type": "markdown",
   "metadata": {},
   "source": [
    "### Cluster 1"
   ]
  },
  {
   "cell_type": "code",
   "execution_count": 11,
   "metadata": {},
   "outputs": [
    {
     "name": "stdout",
     "output_type": "stream",
     "text": [
      "+----------------------------------------------------------+\n",
      "|                 Cross-validated R2 score                 |\n",
      "+--------------------------+----------+--------------------+\n",
      "|        Algorithms        | R2 Score | Standard Deviation |\n",
      "+--------------------------+----------+--------------------+\n",
      "|      Elastic Net CV      |  88.3%   |      +/- 2.1%      |\n",
      "|          Lasso           |  88.4%   |      +/- 2.1%      |\n",
      "| Random Forest Regressor  |  96.0%   |      +/- 1.2%      |\n",
      "|          Ridge           |   nan%   |      +/- nan%      |\n",
      "| Support Vector Regressor |  88.2%   |      +/- 2.4%      |\n",
      "|    XGBoost Regressor     |  99.0%   |      +/- 0.4%      |\n",
      "+--------------------------+----------+--------------------+\n"
     ]
    }
   ],
   "source": [
    "# score on cluster 1\n",
    "outer_cv = KFold(n_splits=5, shuffle=True, random_state=42)\n",
    "\n",
    "a1 = PrettyTable(title=\"Cross-validated R2 score\", header_style='title', max_table_width=110)\n",
    "a1.field_names =[\"Algorithms\", \"R2 score\", \"Standard Deviation\"]\n",
    "for name, gs_est in sorted(gridcvs.items()):\n",
    "    nested_score = cross_val_score(gs_est,\n",
    "                                  X=X1_train,\n",
    "                                  y=y1_train,\n",
    "                                  cv=outer_cv,\n",
    "                                  scoring='r2',\n",
    "                                  n_jobs=-1)\n",
    "    a1.add_row([name, f'{round(nested_score.mean(),3)*100}%', f'+/- {round(nested_score.std(),3)*100}%'])\n",
    "#print table\n",
    "print(a1)"
   ]
  },
  {
   "cell_type": "markdown",
   "metadata": {},
   "source": [
    "While I ran several models, I am interested in those with interpretable values, so amongst these, I will only consider `Elastic Net CV`, `Lasso` and `Ridge` as the working model. \n",
    "\n",
    "From results above, tree-based algorithms work much better but for algorithms that allow interpretability, `Lasso` did the best, so I will use this as the working model for the test set."
   ]
  },
  {
   "cell_type": "code",
   "execution_count": 13,
   "metadata": {},
   "outputs": [
    {
     "name": "stdout",
     "output_type": "stream",
     "text": [
      "+---------------------------------+\n",
      "|           Lasso Scores          |\n",
      "+-----------------------+---------+\n",
      "|        Field 1        | Field 2 |\n",
      "+-----------------------+---------+\n",
      "| Average over CV folds |  88.015 |\n",
      "|   Training R2 Score   |  88.823 |\n",
      "|     Test R2 Score     |  88.848 |\n",
      "+-----------------------+---------+\n",
      "----- Best Params --------\n",
      "{'lasso__n_alphas': 200}\n"
     ]
    }
   ],
   "source": [
    "# fitting a model to the whole training set using the \"best\" algorithm - cluster 1\n",
    "best_algo1 = gridcvs['Lasso']\n",
    "\n",
    "best_algo1.fit(X1_train, y1_train)\n",
    "train_r2 = r2_score(y_true=y1_train, y_pred=best_algo1.predict(X1_train))\n",
    "test_r2 = r2_score(y_true=y1_test, y_pred=best_algo1.predict(X1_test))\n",
    "\n",
    "b1 = PrettyTable(title=\"Lasso Scores\")\n",
    "b1.field_names =[\" \", \"R2 score\"]\n",
    "b1.add_row([\"Average over CV folds\", round(100*best_algo1.best_score_,3)])\n",
    "b1.add_row([\"Training R2 Score\", round(100*train_r2,3)])\n",
    "b1.add_row([\"Test R2 Score\", round(100*test_r2,3)])\n",
    "print(b1)\n",
    "\n",
    "print(\"----- Best Params --------\")\n",
    "print(gridcvs['Lasso'].best_params_)"
   ]
  },
  {
   "cell_type": "markdown",
   "metadata": {},
   "source": [
    "Lasso model is able to account for 88% of variability in data. From the intercept and coefficients, regression equation is as below :"
   ]
  },
  {
   "cell_type": "code",
   "execution_count": 14,
   "metadata": {},
   "outputs": [
    {
     "data": {
      "text/plain": [
       "array([-12.21787353,  27.49854999,   0.40412995,  11.75701996,\n",
       "        -0.86764104,  -1.6033346 ,   0.        ,   0.        ,\n",
       "         0.        ])"
      ]
     },
     "execution_count": 14,
     "metadata": {},
     "output_type": "execute_result"
    }
   ],
   "source": [
    "best_algo1.best_estimator_.named_steps['lasso'].coef_"
   ]
  },
  {
   "cell_type": "code",
   "execution_count": 15,
   "metadata": {},
   "outputs": [
    {
     "data": {
      "text/plain": [
       "12.840023717472116"
      ]
     },
     "execution_count": 15,
     "metadata": {},
     "output_type": "execute_result"
    }
   ],
   "source": [
    "best_algo1.best_estimator_.named_steps['lasso'].intercept_"
   ]
  },
  {
   "cell_type": "markdown",
   "metadata": {},
   "source": [
    "**Regression equation for Cluster 1**\n",
    "\n",
    "`profit_per_unit` = 12.84 - 12.21`sales` + 27.5`profit` + 0.40`shipping cost` + 11.8`unit price` - 0.86`quantity` - 1.60`discount`"
   ]
  },
  {
   "cell_type": "markdown",
   "metadata": {},
   "source": [
    "### Cluster 2"
   ]
  },
  {
   "cell_type": "code",
   "execution_count": 17,
   "metadata": {},
   "outputs": [
    {
     "name": "stdout",
     "output_type": "stream",
     "text": [
      "+--------------------------------------------------------------------+\n",
      "|                      Cross-validated R2 score                      |\n",
      "+--------------------------+--------------------+--------------------+\n",
      "|        Algorithms        |      R2 Score      | Standard Deviation |\n",
      "+--------------------------+--------------------+--------------------+\n",
      "|      Elastic Net CV      |       92.4%        |      +/- 2.7%      |\n",
      "|          Lasso           |       92.5%        |      +/- 2.7%      |\n",
      "| Random Forest Regressor  |       94.8%        |      +/- 0.6%      |\n",
      "|          Ridge           |        nan%        |      +/- nan%      |\n",
      "| Support Vector Regressor |       92.4%        |      +/- 2.4%      |\n",
      "|    XGBoost Regressor     | 97.39999999999999% |      +/- 1.2%      |\n",
      "+--------------------------+--------------------+--------------------+\n"
     ]
    }
   ],
   "source": [
    "#score on cluster 2\n",
    "outer_cv = KFold(n_splits=5, shuffle=True, random_state=42)\n",
    "\n",
    "a2 = PrettyTable(title=\"Cross-validated R2 score\", header_style='title', max_table_width=110)\n",
    "a2.field_names =[\"Algorithms\", \"R2 score\", \"Standard Deviation\"]\n",
    "for name, gs_est in sorted(gridcvs.items()):\n",
    "    nested_score = cross_val_score(gs_est,\n",
    "                                  X=X2_train,\n",
    "                                  y=y2_train,\n",
    "                                  cv=outer_cv,\n",
    "                                  n_jobs=-1)\n",
    "    a2.add_row([name, f'{round(nested_score.mean(),3)*100}%', f'+/- {round(nested_score.std(),3)*100}%'])\n",
    "#print table\n",
    "print(a2)"
   ]
  },
  {
   "cell_type": "code",
   "execution_count": 21,
   "metadata": {},
   "outputs": [
    {
     "name": "stdout",
     "output_type": "stream",
     "text": [
      "+---------------------------------+\n",
      "|           Lasso Scores          |\n",
      "+-----------------------+---------+\n",
      "|        Field 1        | Field 2 |\n",
      "+-----------------------+---------+\n",
      "| Average over CV folds |  93.66  |\n",
      "|   Training R2 Score   |  93.745 |\n",
      "|     Test R2 Score     |  95.21  |\n",
      "+-----------------------+---------+\n",
      "----- Best Params --------\n",
      "{'lasso__n_alphas': 200}\n"
     ]
    }
   ],
   "source": [
    "# fitting a model to the whole training set using the \"best\" algorithm - cluster 1\n",
    "best_algo2 = gridcvs['Lasso']\n",
    "\n",
    "best_algo2.fit(X2_train, y2_train)\n",
    "train_r2 = r2_score(y_true=y2_train, y_pred=best_algo2.predict(X2_train))\n",
    "test_r2 = r2_score(y_true=y2_test, y_pred=best_algo2.predict(X2_test))\n",
    "\n",
    "b1 = PrettyTable(title=\"Lasso Scores\")\n",
    "b1.add_row([\"Average over CV folds\", round(100*best_algo2.best_score_,3)])\n",
    "b1.add_row([\"Training R2 Score\", round(100*train_r2,3)])\n",
    "b1.add_row([\"Test R2 Score\", round(100*test_r2,3)])\n",
    "print(b1)\n",
    "\n",
    "print(\"----- Best Params --------\")\n",
    "print(gridcvs['Lasso'].best_params_)"
   ]
  },
  {
   "cell_type": "markdown",
   "metadata": {},
   "source": [
    "Lasso model is able to account for 95% of variability in data. From the intercept and coefficients, regression equation is as below :"
   ]
  },
  {
   "cell_type": "code",
   "execution_count": 22,
   "metadata": {},
   "outputs": [
    {
     "data": {
      "text/plain": [
       "array([-10.12449337,  32.19749545,  -0.42968884,  10.28825047,\n",
       "        -0.60422649,  -1.98470968,   0.        ,   0.        ,\n",
       "         0.        ])"
      ]
     },
     "execution_count": 22,
     "metadata": {},
     "output_type": "execute_result"
    }
   ],
   "source": [
    "best_algo2.best_estimator_.named_steps['lasso'].coef_"
   ]
  },
  {
   "cell_type": "code",
   "execution_count": 23,
   "metadata": {},
   "outputs": [
    {
     "data": {
      "text/plain": [
       "14.52031328320802"
      ]
     },
     "execution_count": 23,
     "metadata": {},
     "output_type": "execute_result"
    }
   ],
   "source": [
    "best_algo2.best_estimator_.named_steps['lasso'].intercept_"
   ]
  },
  {
   "cell_type": "markdown",
   "metadata": {},
   "source": [
    "**Regression equation for Cluster 2**\n",
    "\n",
    "`profit_per_unit` = 14.52 - 10.12`sales` + 32.19`profit` - 0.42`shipping cost` + 10.28`unit price` - 0.6`quantity` - 1.98`discount`"
   ]
  },
  {
   "cell_type": "markdown",
   "metadata": {},
   "source": [
    "### Cluster 3"
   ]
  },
  {
   "cell_type": "code",
   "execution_count": 24,
   "metadata": {},
   "outputs": [
    {
     "name": "stdout",
     "output_type": "stream",
     "text": [
      "+--------------------------------------------------------------------+\n",
      "|                      Cross-validated R2 score                      |\n",
      "+--------------------------+--------------------+--------------------+\n",
      "|        Algorithms        |      R2 Score      | Standard Deviation |\n",
      "+--------------------------+--------------------+--------------------+\n",
      "|      Elastic Net CV      |       71.6%        |     +/- 10.5%      |\n",
      "|          Lasso           | 70.89999999999999% |     +/- 11.1%      |\n",
      "| Random Forest Regressor  |       90.5%        |      +/- 2.5%      |\n",
      "|          Ridge           |        nan%        |      +/- nan%      |\n",
      "| Support Vector Regressor |       72.7%        |      +/- 9.6%      |\n",
      "|    XGBoost Regressor     | 92.80000000000001% |      +/- 1.3%      |\n",
      "+--------------------------+--------------------+--------------------+\n"
     ]
    }
   ],
   "source": [
    "#score on cluster 3\n",
    "outer_cv = KFold(n_splits=5, shuffle=True, random_state=42)\n",
    "\n",
    "a3 = PrettyTable(title=\"Cross-validated R2 score\", header_style='title', max_table_width=110)\n",
    "a3.field_names =[\"Algorithms\", \"R2 score\", \"Standard Deviation\"]\n",
    "for name, gs_est in sorted(gridcvs.items()):\n",
    "    nested_score = cross_val_score(gs_est,\n",
    "                                  X=X3_train,\n",
    "                                  y=y3_train,\n",
    "                                  cv=outer_cv,\n",
    "                                  n_jobs=-1)\n",
    "    a3.add_row([name, f'{round(nested_score.mean(),3)*100}%', f'+/- {round(nested_score.std(),3)*100}%'])\n",
    "#print table\n",
    "print(a3)"
   ]
  },
  {
   "cell_type": "code",
   "execution_count": 25,
   "metadata": {},
   "outputs": [
    {
     "name": "stdout",
     "output_type": "stream",
     "text": [
      "+---------------------------------+\n",
      "|      Elastic Net CV Scores      |\n",
      "+-----------------------+---------+\n",
      "|        Field 1        | Field 2 |\n",
      "+-----------------------+---------+\n",
      "| Average over CV folds |  71.877 |\n",
      "|   Training R2 Score   |  77.745 |\n",
      "|     Test R2 Score     |  66.677 |\n",
      "+-----------------------+---------+\n",
      "----- Best Params --------\n",
      "{'enet__l1_ratio': 0.9899, 'enet__n_alphas': 300}\n"
     ]
    }
   ],
   "source": [
    "# fitting a model to the whole training set using the \"best\" algorithm - cluster 1\n",
    "best_algo3 = gridcvs['Elastic Net CV']\n",
    "\n",
    "best_algo3.fit(X3_train, y3_train)\n",
    "train_r2 = r2_score(y_true=y3_train, y_pred=best_algo3.predict(X3_train))\n",
    "test_r2 = r2_score(y_true=y3_test, y_pred=best_algo3.predict(X3_test))\n",
    "\n",
    "b3 = PrettyTable(title=\"Elastic Net CV Scores\")\n",
    "b3.add_row([\"Average over CV folds\", round(100*best_algo3.best_score_,3)])\n",
    "b3.add_row([\"Training R2 Score\", round(100*train_r2,3)])\n",
    "b3.add_row([\"Test R2 Score\", round(100*test_r2,3)])\n",
    "print(b3)\n",
    "\n",
    "print(\"----- Best Params --------\")\n",
    "print(gridcvs['Elastic Net CV'].best_params_)"
   ]
  },
  {
   "cell_type": "markdown",
   "metadata": {},
   "source": [
    "Enet model is able to account for 66% of variability in data. From the intercept and coefficients, regression equation is as below :"
   ]
  },
  {
   "cell_type": "code",
   "execution_count": 28,
   "metadata": {},
   "outputs": [
    {
     "data": {
      "text/plain": [
       "array([ -0.        ,  12.07333317,  -1.10616426,  -0.41917392,\n",
       "         1.80541063, -27.18559249,   0.        ,   0.        ,\n",
       "         1.98300809])"
      ]
     },
     "execution_count": 28,
     "metadata": {},
     "output_type": "execute_result"
    }
   ],
   "source": [
    "best_algo3.best_estimator_.named_steps['enet'].coef_"
   ]
  },
  {
   "cell_type": "code",
   "execution_count": 27,
   "metadata": {},
   "outputs": [
    {
     "data": {
      "text/plain": [
       "-22.331943749999994"
      ]
     },
     "execution_count": 27,
     "metadata": {},
     "output_type": "execute_result"
    }
   ],
   "source": [
    "best_algo3.best_estimator_.named_steps['enet'].intercept_"
   ]
  },
  {
   "cell_type": "markdown",
   "metadata": {},
   "source": [
    "**Regression equation for Cluster 3**\n",
    "\n",
    "`profit_per_unit` = -22.33 + 12.07`profit` - 1.11`shipping cost` - 0.42`unit price` + 1.80`quantity` - 27.18`discount` + 1.98`more_qty`"
   ]
  },
  {
   "cell_type": "markdown",
   "metadata": {},
   "source": [
    "### Conclusion and Recommendation"
   ]
  },
  {
   "cell_type": "markdown",
   "metadata": {},
   "source": [
    "Visualise the profit per unit for the unit price range of `Phones` for each cluster."
   ]
  },
  {
   "cell_type": "code",
   "execution_count": 24,
   "metadata": {},
   "outputs": [
    {
     "data": {
      "image/png": "[encoded data removed]",
      "text/plain": [
       "<Figure size 432x288 with 1 Axes>"
      ]
     },
     "metadata": {
      "needs_background": "light"
     },
     "output_type": "display_data"
    }
   ],
   "source": [
    "# visualise regression line for each cluster with unit price as x-axis\n",
    "x1=np.arange(min(X1['unit_price']),max(X1['unit_price']))\n",
    "x2=np.arange(min(X2['unit_price']),max(X2['unit_price']))\n",
    "x3=np.arange(min(X3['unit_price']),max(X3['unit_price']))\n",
    "y1 = 12.84+11.8*x1\n",
    "y2 = 14.52+10.28*x2\n",
    "y3 = -22.33-0.42*x3\n",
    "\n",
    "sns.lineplot(x=x1, y=y1, label='Cluster 1', color='royalblue')\n",
    "sns.lineplot(x=x2, y=y2, label='Cluster 2', color='mediumseagreen')\n",
    "sns.lineplot(x=x3, y=y3, label='Cluster 3', color='firebrick')\n",
    "plt.title(\"Regression Line of Clusters\")\n",
    "plt.ylabel(\"profit_per_unit\")\n",
    "plt.xlabel(\"unit_price\")\n",
    "plt.show()"
   ]
  },
  {
   "cell_type": "markdown",
   "metadata": {},
   "source": [
    "If I were to set up a business and sell phones, I would avoid selling or operating at `Western Africa`, `Western Asia` or `Central Asia` as all phone transactions in these regions are not profitable at any unit price. Instead I would focus on other selling in other regions. \n",
    "\n",
    "Between Cluster 1 and Cluster 2, Cluster 1 comprise transactions with larger quantities than Cluster 2. To command a higher unit price, I should create a sale incorporating marketing or advertising strategies to encourage more purchases. For instance, bulk discounts or take advantage of seasonality of sales or occasion-based sales like Valentine's Day or Black Friday sale.\n",
    "\n",
    "If say it is not possible to price the phone any higher, to consider grouping purchases, which include the phone and other accessories related to the phone for example headphones or ear phones, or handphone cases. This may entice the customer to purchase more items, while paying for a reasonable price for the phone. "
   ]
  },
  {
   "cell_type": "markdown",
   "metadata": {},
   "source": [
    "### Limitations and Other Considerations\n",
    "\n",
    "<u>Nature of setting prices</u>\n",
    "\n",
    "While the project has attempted to price a product based purely on past data obtained, pricing is as much art as it is science (Masserman, 2021). There are many other external factors that influence prices for instance, branding, marketing and advertising strategies. The latest phone model should be priced much higher than older models, for the same brand. \n",
    "\n",
    "<u>Scaling and monitoring</u>\n",
    "\n",
    "Consumer purchase behaviour changes over time, and so the model needs consistent monitoring. Scaling may be an issue because as time passes, more consumers are added to the database, and hence, much more processing power is needed to handle the huge amounts of data. We might end up with much more clusters with more data. "
   ]
  },
  {
   "cell_type": "markdown",
   "metadata": {},
   "source": [
    "### Further Development\n",
    "\n",
    "<u>Consumer segmentation</u>\n",
    "\n",
    "Apart from clustering by transactions, another way to group purchases is by customer segmentation. This would require customer details to provide insights as to consumer purchase behaviour. For example, customer's spending score (ie. propensity to spend), age, income etc. \n",
    "\n",
    "<u>Focused scope or broader scope</u>\n",
    "\n",
    "While the project focused on a particular product category, we can further develop the project by looking deeper within the product category like into specific brands, or specific phone models. The project can also be further developed by looking at other categories outside of phones.\n"
   ]
  }
 ],
 "metadata": {
  "kernelspec": {
   "display_name": "Python 3",
   "language": "python",
   "name": "python3"
  },
  "language_info": {
   "codemirror_mode": {
    "name": "ipython",
    "version": 3
   },
   "file_extension": ".py",
   "mimetype": "text/x-python",
   "name": "python",
   "nbconvert_exporter": "python",
   "pygments_lexer": "ipython3",
   "version": "3.8.5"
  }
 },
 "nbformat": 4,
 "nbformat_minor": 4
}
